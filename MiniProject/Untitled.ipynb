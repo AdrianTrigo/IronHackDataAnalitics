{
 "cells": [
  {
   "cell_type": "code",
   "execution_count": 24,
   "id": "7ab68a25-4976-4089-a1f1-471b521bf363",
   "metadata": {},
   "outputs": [
    {
     "name": "stderr",
     "output_type": "stream",
     "text": [
      "testAttackHasNoParams (__main__.TestSoldier.testAttackHasNoParams) ... ok\n",
      "testAttackRetunsStrength (__main__.TestSoldier.testAttackRetunsStrength) ... ok\n",
      "testAttackShouldBeFunction (__main__.TestSoldier.testAttackShouldBeFunction) ... ok\n",
      "testCanReceiveDamage (__main__.TestSoldier.testCanReceiveDamage) ... ok\n",
      "testConstructorSignature (__main__.TestSoldier.testConstructorSignature) ... ok\n",
      "testHealth (__main__.TestSoldier.testHealth) ... ok\n",
      "testReceiveDamageReturnNone (__main__.TestSoldier.testReceiveDamageReturnNone) ... ok\n",
      "testReceivesDamage (__main__.TestSoldier.testReceivesDamage) ... ok\n",
      "testReceivesDamageHasParams (__main__.TestSoldier.testReceivesDamageHasParams) ... ok\n",
      "testStrength (__main__.TestSoldier.testStrength) ... ok\n",
      "\n",
      "----------------------------------------------------------------------\n",
      "Ran 10 tests in 0.008s\n",
      "\n",
      "OK\n"
     ]
    }
   ],
   "source": [
    "%run \"1-testsSoldier.py\" --v"
   ]
  },
  {
   "cell_type": "code",
   "execution_count": null,
   "id": "19b9b3c7-016c-4a4a-b548-4f5e128fa8fb",
   "metadata": {},
   "outputs": [],
   "source": []
  }
 ],
 "metadata": {
  "kernelspec": {
   "display_name": "Python 3 (ipykernel)",
   "language": "python",
   "name": "python3"
  },
  "language_info": {
   "codemirror_mode": {
    "name": "ipython",
    "version": 3
   },
   "file_extension": ".py",
   "mimetype": "text/x-python",
   "name": "python",
   "nbconvert_exporter": "python",
   "pygments_lexer": "ipython3",
   "version": "3.12.4"
  }
 },
 "nbformat": 4,
 "nbformat_minor": 5
}
